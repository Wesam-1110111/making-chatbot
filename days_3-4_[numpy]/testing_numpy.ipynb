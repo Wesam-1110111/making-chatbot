{
 "cells": [
  {
   "cell_type": "code",
   "execution_count": 1,
   "id": "cb03a085-e8d1-439f-9a5b-e1e0a0fffde1",
   "metadata": {},
   "outputs": [],
   "source": [
    "import numpy as np"
   ]
  },
  {
   "cell_type": "code",
   "execution_count": 2,
   "id": "9acf2ee6-4a09-4ab1-92fe-74c2eceee40f",
   "metadata": {},
   "outputs": [],
   "source": [
    "a1 = np.array([10])"
   ]
  },
  {
   "cell_type": "code",
   "execution_count": 3,
   "id": "4c7993da-8a53-473d-8204-e6b09814908c",
   "metadata": {},
   "outputs": [
    {
     "data": {
      "text/plain": [
       "1"
      ]
     },
     "execution_count": 3,
     "metadata": {},
     "output_type": "execute_result"
    }
   ],
   "source": [
    "a1.ndim"
   ]
  },
  {
   "cell_type": "code",
   "execution_count": 4,
   "id": "9aea3d6a-65b9-4d21-a431-c068f66a2b00",
   "metadata": {},
   "outputs": [
    {
     "data": {
      "text/plain": [
       "(1,)"
      ]
     },
     "execution_count": 4,
     "metadata": {},
     "output_type": "execute_result"
    }
   ],
   "source": [
    "a1.shape"
   ]
  },
  {
   "cell_type": "code",
   "execution_count": 7,
   "id": "d1378a1a-a457-4019-afbc-e101a1abb150",
   "metadata": {},
   "outputs": [],
   "source": [
    "a2 = np.arange(10)"
   ]
  },
  {
   "cell_type": "code",
   "execution_count": 10,
   "id": "e588e3f4-e23f-4c7e-95bc-e1b0a10ff058",
   "metadata": {},
   "outputs": [
    {
     "name": "stdout",
     "output_type": "stream",
     "text": [
      "[0 1 2 3 4 5 6 7 8 9]\n"
     ]
    }
   ],
   "source": [
    "print(a2)"
   ]
  },
  {
   "cell_type": "code",
   "execution_count": 11,
   "id": "69d3aa0a-fa0b-4af3-9dc6-b7bc03ab2191",
   "metadata": {},
   "outputs": [
    {
     "data": {
      "text/plain": [
       "1"
      ]
     },
     "execution_count": 11,
     "metadata": {},
     "output_type": "execute_result"
    }
   ],
   "source": [
    "a2.ndim"
   ]
  },
  {
   "cell_type": "code",
   "execution_count": 12,
   "id": "51093169-b2e2-47cb-91b0-7f06f7bf0272",
   "metadata": {},
   "outputs": [
    {
     "data": {
      "text/plain": [
       "(10,)"
      ]
     },
     "execution_count": 12,
     "metadata": {},
     "output_type": "execute_result"
    }
   ],
   "source": [
    "a2.shape"
   ]
  },
  {
   "cell_type": "code",
   "execution_count": 25,
   "id": "23d6a140-b42e-480e-a063-d6074f9156ae",
   "metadata": {},
   "outputs": [
    {
     "data": {
      "text/plain": [
       "array([[[0, 1, 2, 3, 4]],\n",
       "\n",
       "       [[5, 6, 7, 8, 9]]])"
      ]
     },
     "execution_count": 25,
     "metadata": {},
     "output_type": "execute_result"
    }
   ],
   "source": [
    "a3 = a2.reshape(2,1, 5)\n",
    "a3"
   ]
  },
  {
   "cell_type": "code",
   "execution_count": 15,
   "id": "3369ee2f-68f6-4ca8-9f61-0cd2fadb7231",
   "metadata": {},
   "outputs": [
    {
     "data": {
      "text/plain": [
       "2"
      ]
     },
     "execution_count": 15,
     "metadata": {},
     "output_type": "execute_result"
    }
   ],
   "source": [
    "a3.ndim"
   ]
  },
  {
   "cell_type": "code",
   "execution_count": 16,
   "id": "afd7549e-5ed0-4ec7-ad4b-d2df5e284ed4",
   "metadata": {},
   "outputs": [
    {
     "data": {
      "text/plain": [
       "(5, 2)"
      ]
     },
     "execution_count": 16,
     "metadata": {},
     "output_type": "execute_result"
    }
   ],
   "source": [
    "a3.shape"
   ]
  },
  {
   "cell_type": "code",
   "execution_count": 19,
   "id": "5e750b25-689a-413c-bcc4-e58b9e958adb",
   "metadata": {},
   "outputs": [],
   "source": [
    "a4 = np.array([1, 2, 3], ndmin=3)"
   ]
  },
  {
   "cell_type": "code",
   "execution_count": 20,
   "id": "bb6e43f8-65ae-467d-8c0e-9b89e14f13a5",
   "metadata": {},
   "outputs": [
    {
     "data": {
      "text/plain": [
       "array([[[1, 2, 3]]])"
      ]
     },
     "execution_count": 20,
     "metadata": {},
     "output_type": "execute_result"
    }
   ],
   "source": [
    "a4"
   ]
  },
  {
   "cell_type": "code",
   "execution_count": 21,
   "id": "77ae9474-f40a-4130-ad74-2988a4d456c7",
   "metadata": {},
   "outputs": [
    {
     "data": {
      "text/plain": [
       "3"
      ]
     },
     "execution_count": 21,
     "metadata": {},
     "output_type": "execute_result"
    }
   ],
   "source": [
    "a4.ndim"
   ]
  },
  {
   "cell_type": "code",
   "execution_count": 22,
   "id": "59a56a59-f255-4f90-87de-f3558ad3c821",
   "metadata": {},
   "outputs": [
    {
     "data": {
      "text/plain": [
       "(1, 1, 3)"
      ]
     },
     "execution_count": 22,
     "metadata": {},
     "output_type": "execute_result"
    }
   ],
   "source": [
    "a4.shape"
   ]
  },
  {
   "cell_type": "code",
   "execution_count": null,
   "id": "b6973279-c341-433a-9f4f-cfd284fa0c2b",
   "metadata": {},
   "outputs": [],
   "source": []
  },
  {
   "cell_type": "code",
   "execution_count": null,
   "id": "3d44b745-b2c1-4153-8cc7-2496d55d8734",
   "metadata": {},
   "outputs": [],
   "source": []
  },
  {
   "cell_type": "code",
   "execution_count": null,
   "id": "6909ff19-7987-4169-8a95-11ec7791f674",
   "metadata": {},
   "outputs": [],
   "source": []
  },
  {
   "cell_type": "code",
   "execution_count": null,
   "id": "997abf8f-943a-4eca-bc84-bdc0bae4e820",
   "metadata": {},
   "outputs": [],
   "source": []
  },
  {
   "cell_type": "code",
   "execution_count": null,
   "id": "3612f5cd-e667-4f69-bd12-cff4c0906dca",
   "metadata": {},
   "outputs": [],
   "source": []
  },
  {
   "cell_type": "code",
   "execution_count": null,
   "id": "b944b781-b42b-4f28-b2b5-2853faf11cf8",
   "metadata": {},
   "outputs": [],
   "source": []
  },
  {
   "cell_type": "code",
   "execution_count": null,
   "id": "2cbaff94-2f08-4c54-a7b1-b4c1883a0096",
   "metadata": {},
   "outputs": [],
   "source": []
  }
 ],
 "metadata": {
  "kernelspec": {
   "display_name": "Python 3 (ipykernel)",
   "language": "python",
   "name": "python3"
  },
  "language_info": {
   "codemirror_mode": {
    "name": "ipython",
    "version": 3
   },
   "file_extension": ".py",
   "mimetype": "text/x-python",
   "name": "python",
   "nbconvert_exporter": "python",
   "pygments_lexer": "ipython3",
   "version": "3.12.4"
  }
 },
 "nbformat": 4,
 "nbformat_minor": 5
}
