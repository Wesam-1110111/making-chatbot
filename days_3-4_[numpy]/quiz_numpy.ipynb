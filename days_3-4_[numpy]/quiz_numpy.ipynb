{
 "cells": [
  {
   "cell_type": "code",
   "execution_count": 1,
   "id": "17a60933-aae2-4d17-9689-c2981a6e4ac9",
   "metadata": {},
   "outputs": [],
   "source": [
    "import numpy as np"
   ]
  },
  {
   "cell_type": "markdown",
   "id": "e5c86892-fced-446f-8273-1344288918e5",
   "metadata": {},
   "source": [
    "# التمرين 1: إنشاء مصفوفات وتعديلها"
   ]
  },
  {
   "cell_type": "markdown",
   "id": "9c599dc7-0f3f-4905-9b19-670f2d8b9ed6",
   "metadata": {},
   "source": [
    "إنشاء مصفوفة أحادية البعد (1D array):\n",
    "\n",
    "أنشئ مصفوفة تحتوي على الأعداد من 1 إلى 10.\n",
    "استخرج العنصر الخامس من المصفوفة."
   ]
  },
  {
   "cell_type": "code",
   "execution_count": 22,
   "id": "4608759b-a7e9-4b52-ad55-eb1774d2e6fb",
   "metadata": {},
   "outputs": [
    {
     "data": {
      "text/plain": [
       "5"
      ]
     },
     "execution_count": 22,
     "metadata": {},
     "output_type": "execute_result"
    }
   ],
   "source": [
    "arr1 = np.arange(1, 11)\n",
    "arr1[4]"
   ]
  },
  {
   "cell_type": "markdown",
   "id": "dc596f46-5721-4e1a-a0ee-3c4a1f2d6840",
   "metadata": {},
   "source": [
    "إنشاء مصفوفة ثنائية الأبعاد (2D array):\n",
    "\n",
    "أنشئ مصفوفة 3x3 تحتوي على الأعداد من 1 إلى 9.\n",
    "غير قيمة العنصر الموجود في الصف الثاني والعمود الثالث إلى 99."
   ]
  },
  {
   "cell_type": "code",
   "execution_count": 23,
   "id": "1294a3fa-a152-4cbc-9a91-195ced2b8fb8",
   "metadata": {},
   "outputs": [
    {
     "data": {
      "text/plain": [
       "array([[ 1,  2,  3],\n",
       "       [ 4,  5, 99],\n",
       "       [ 7,  8,  9]])"
      ]
     },
     "execution_count": 23,
     "metadata": {},
     "output_type": "execute_result"
    }
   ],
   "source": [
    "arr2 = np.arange(1, 10)\n",
    "arr2 = arr2.reshape(3, 3)\n",
    "arr2[1, 2] = 99\n",
    "arr2"
   ]
  },
  {
   "cell_type": "markdown",
   "id": "c3f6ac43-6e4a-43ff-872a-6f1f1b4f2712",
   "metadata": {},
   "source": [
    "ضافة عنصر جديد للمصفوفة:\n",
    "\n",
    "أضف العنصر 11 إلى المصفوفة الأولى التي أنشأتها."
   ]
  },
  {
   "cell_type": "code",
   "execution_count": 24,
   "id": "fa53817e-5760-401d-a4fb-ade611d17192",
   "metadata": {},
   "outputs": [
    {
     "data": {
      "text/plain": [
       "array([ 1,  2,  3,  4,  5,  6,  7,  8,  9, 10])"
      ]
     },
     "execution_count": 24,
     "metadata": {},
     "output_type": "execute_result"
    }
   ],
   "source": [
    "arr1"
   ]
  },
  {
   "cell_type": "code",
   "execution_count": 25,
   "id": "75b30346-eb2f-4f73-b514-54bfcd548573",
   "metadata": {},
   "outputs": [
    {
     "data": {
      "text/plain": [
       "array([ 1,  2,  3,  4,  5,  6,  7,  8,  9, 10, 11])"
      ]
     },
     "execution_count": 25,
     "metadata": {},
     "output_type": "execute_result"
    }
   ],
   "source": [
    "np.append(arr1, 11)"
   ]
  },
  {
   "cell_type": "code",
   "execution_count": 26,
   "id": "c4310939-8312-4a77-9495-af17b4d74875",
   "metadata": {},
   "outputs": [
    {
     "data": {
      "text/plain": [
       "array([ 1,  2,  3,  4,  5,  6,  7,  8,  9, 10])"
      ]
     },
     "execution_count": 26,
     "metadata": {},
     "output_type": "execute_result"
    }
   ],
   "source": [
    "arr1"
   ]
  },
  {
   "cell_type": "markdown",
   "id": "6cb2a2b3-6aeb-4cc4-abf4-be90e084e9df",
   "metadata": {},
   "source": [
    "# التمرين 2: العمليات الحسابية على المصفوفات"
   ]
  },
  {
   "cell_type": "markdown",
   "id": "cc2f8744-88c6-4ca8-9de7-854c72564791",
   "metadata": {},
   "source": [
    "جمع وطرح المصفوفات:"
   ]
  },
  {
   "cell_type": "markdown",
   "id": "ee823ee6-a7d3-4d12-9f94-c14a833d077d",
   "metadata": {},
   "source": [
    "أنشئ مصفوفتين 3x3 مليئتين بالقيم العشوائية.\n",
    "احسب مجموع المصفوفتين.\n",
    "احسب طرح المصفوفتين."
   ]
  },
  {
   "cell_type": "code",
   "execution_count": null,
   "id": "074d4efc-5131-4c4f-aeb0-9b26ce06ed1c",
   "metadata": {},
   "outputs": [],
   "source": [
    "a1 = "
   ]
  },
  {
   "cell_type": "code",
   "execution_count": null,
   "id": "d72802d8-f365-4a93-a78f-799c63174413",
   "metadata": {},
   "outputs": [],
   "source": []
  }
 ],
 "metadata": {
  "kernelspec": {
   "display_name": "Python 3 (ipykernel)",
   "language": "python",
   "name": "python3"
  },
  "language_info": {
   "codemirror_mode": {
    "name": "ipython",
    "version": 3
   },
   "file_extension": ".py",
   "mimetype": "text/x-python",
   "name": "python",
   "nbconvert_exporter": "python",
   "pygments_lexer": "ipython3",
   "version": "3.12.4"
  }
 },
 "nbformat": 4,
 "nbformat_minor": 5
}
