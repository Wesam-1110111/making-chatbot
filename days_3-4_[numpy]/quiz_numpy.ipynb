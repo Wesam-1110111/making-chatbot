{
 "cells": [
  {
   "cell_type": "code",
   "execution_count": 1,
   "id": "17a60933-aae2-4d17-9689-c2981a6e4ac9",
   "metadata": {},
   "outputs": [],
   "source": [
    "import numpy as np\n",
    "import random"
   ]
  },
  {
   "cell_type": "markdown",
   "id": "e5c86892-fced-446f-8273-1344288918e5",
   "metadata": {},
   "source": [
    "# التمرين 1: إنشاء مصفوفات وتعديلها"
   ]
  },
  {
   "cell_type": "markdown",
   "id": "9c599dc7-0f3f-4905-9b19-670f2d8b9ed6",
   "metadata": {},
   "source": [
    "إنشاء مصفوفة أحادية البعد (1D array):\n",
    "\n",
    "أنشئ مصفوفة تحتوي على الأعداد من 1 إلى 10.\n",
    "استخرج العنصر الخامس من المصفوفة."
   ]
  },
  {
   "cell_type": "code",
   "execution_count": 45,
   "id": "4608759b-a7e9-4b52-ad55-eb1774d2e6fb",
   "metadata": {},
   "outputs": [
    {
     "data": {
      "text/plain": [
       "5"
      ]
     },
     "execution_count": 45,
     "metadata": {},
     "output_type": "execute_result"
    }
   ],
   "source": [
    "arr1 = np.arange(1, 11)\n",
    "arr1[4]"
   ]
  },
  {
   "cell_type": "markdown",
   "id": "dc596f46-5721-4e1a-a0ee-3c4a1f2d6840",
   "metadata": {},
   "source": [
    "إنشاء مصفوفة ثنائية الأبعاد (2D array):\n",
    "\n",
    "أنشئ مصفوفة 3x3 تحتوي على الأعداد من 1 إلى 9.\n",
    "غير قيمة العنصر الموجود في الصف الثاني والعمود الثالث إلى 99."
   ]
  },
  {
   "cell_type": "code",
   "execution_count": 37,
   "id": "1294a3fa-a152-4cbc-9a91-195ced2b8fb8",
   "metadata": {},
   "outputs": [
    {
     "data": {
      "text/plain": [
       "array([[ 1,  2,  3],\n",
       "       [ 4,  5, 99],\n",
       "       [ 7,  8,  9]])"
      ]
     },
     "execution_count": 37,
     "metadata": {},
     "output_type": "execute_result"
    }
   ],
   "source": [
    "arr2 = np.arange(1, 10)\n",
    "arr2 = arr2.reshape(3, 3)\n",
    "arr2[1, 2] = 99\n",
    "arr2"
   ]
  },
  {
   "cell_type": "markdown",
   "id": "c3f6ac43-6e4a-43ff-872a-6f1f1b4f2712",
   "metadata": {},
   "source": [
    "ضافة عنصر جديد للمصفوفة:\n",
    "\n",
    "أضف العنصر 11 إلى المصفوفة الأولى التي أنشأتها."
   ]
  },
  {
   "cell_type": "code",
   "execution_count": 24,
   "id": "fa53817e-5760-401d-a4fb-ade611d17192",
   "metadata": {},
   "outputs": [
    {
     "data": {
      "text/plain": [
       "array([ 1,  2,  3,  4,  5,  6,  7,  8,  9, 10])"
      ]
     },
     "execution_count": 24,
     "metadata": {},
     "output_type": "execute_result"
    }
   ],
   "source": [
    "arr1"
   ]
  },
  {
   "cell_type": "code",
   "execution_count": 25,
   "id": "75b30346-eb2f-4f73-b514-54bfcd548573",
   "metadata": {},
   "outputs": [
    {
     "data": {
      "text/plain": [
       "array([ 1,  2,  3,  4,  5,  6,  7,  8,  9, 10, 11])"
      ]
     },
     "execution_count": 25,
     "metadata": {},
     "output_type": "execute_result"
    }
   ],
   "source": [
    "np.append(arr1, 11)"
   ]
  },
  {
   "cell_type": "code",
   "execution_count": 26,
   "id": "c4310939-8312-4a77-9495-af17b4d74875",
   "metadata": {},
   "outputs": [
    {
     "data": {
      "text/plain": [
       "array([ 1,  2,  3,  4,  5,  6,  7,  8,  9, 10])"
      ]
     },
     "execution_count": 26,
     "metadata": {},
     "output_type": "execute_result"
    }
   ],
   "source": [
    "arr1"
   ]
  },
  {
   "cell_type": "markdown",
   "id": "6cb2a2b3-6aeb-4cc4-abf4-be90e084e9df",
   "metadata": {},
   "source": [
    "# التمرين 2: العمليات الحسابية على المصفوفات"
   ]
  },
  {
   "cell_type": "markdown",
   "id": "cc2f8744-88c6-4ca8-9de7-854c72564791",
   "metadata": {},
   "source": [
    "جمع وطرح المصفوفات:"
   ]
  },
  {
   "cell_type": "markdown",
   "id": "ee823ee6-a7d3-4d12-9f94-c14a833d077d",
   "metadata": {},
   "source": [
    "أنشئ مصفوفتين 3x3 مليئتين بالقيم العشوائية.\n",
    "احسب مجموع المصفوفتين.\n",
    "احسب طرح المصفوفتين."
   ]
  },
  {
   "cell_type": "code",
   "execution_count": 22,
   "id": "074d4efc-5131-4c4f-aeb0-9b26ce06ed1c",
   "metadata": {},
   "outputs": [
    {
     "data": {
      "text/plain": [
       "array([[4, 9, 5],\n",
       "       [6, 9, 7],\n",
       "       [9, 4, 3]])"
      ]
     },
     "execution_count": 22,
     "metadata": {},
     "output_type": "execute_result"
    }
   ],
   "source": [
    "rand_list = [random.randint(1, 10) for i in range(9)]\n",
    "\n",
    "a1 = np.array(rand_list)\n",
    "a1 = a1.reshape(3, 3)\n",
    "a1"
   ]
  },
  {
   "cell_type": "code",
   "execution_count": 21,
   "id": "d72802d8-f365-4a93-a78f-799c63174413",
   "metadata": {},
   "outputs": [
    {
     "data": {
      "text/plain": [
       "array([[ 8,  2,  5],\n",
       "       [ 9, 10, 10],\n",
       "       [ 5, 10,  8]])"
      ]
     },
     "execution_count": 21,
     "metadata": {},
     "output_type": "execute_result"
    }
   ],
   "source": [
    "rand_list = [random.randint(1, 10) for i in range(9)]\n",
    "a2 = np.array(rand_list)\n",
    "a2 = a2.reshape(3, 3)\n",
    "a2"
   ]
  },
  {
   "cell_type": "markdown",
   "id": "ef9686f9-f75d-4af9-81ec-1871e2aaabc7",
   "metadata": {},
   "source": [
    "احسب مجموع المصفوفتين."
   ]
  },
  {
   "cell_type": "code",
   "execution_count": 23,
   "id": "53f3161a-4a76-406c-915b-3f996470e7ac",
   "metadata": {},
   "outputs": [
    {
     "data": {
      "text/plain": [
       "array([[12, 11, 10],\n",
       "       [15, 19, 17],\n",
       "       [14, 14, 11]])"
      ]
     },
     "execution_count": 23,
     "metadata": {},
     "output_type": "execute_result"
    }
   ],
   "source": [
    "sum = a1 + a2\n",
    "sum"
   ]
  },
  {
   "cell_type": "markdown",
   "id": "349bbf84-30ba-449b-91e1-4deaddd1d0e3",
   "metadata": {},
   "source": [
    "احسب طرح المصفوفتين."
   ]
  },
  {
   "cell_type": "code",
   "execution_count": 25,
   "id": "46db18fd-cca7-449c-b869-8d9f52c74ca9",
   "metadata": {},
   "outputs": [
    {
     "data": {
      "text/plain": [
       "array([[-4,  7,  0],\n",
       "       [-3, -1, -3],\n",
       "       [ 4, -6, -5]])"
      ]
     },
     "execution_count": 25,
     "metadata": {},
     "output_type": "execute_result"
    }
   ],
   "source": [
    "sub = a1 - a2\n",
    "sub"
   ]
  },
  {
   "cell_type": "markdown",
   "id": "93974b31-95ea-4a3c-b82f-dd93f8f40228",
   "metadata": {},
   "source": [
    "## الضرب النقطي (Dot Product):"
   ]
  },
  {
   "cell_type": "markdown",
   "id": "7fc9d967-a37d-4f65-ae82-5e18f0dc9af1",
   "metadata": {},
   "source": [
    "أنشئ مصفوفتين 2x3 و 3x2.\n",
    "احسب الضرب النقطي لهاتين المصفوفتين."
   ]
  },
  {
   "cell_type": "code",
   "execution_count": 27,
   "id": "2ed43b52-0bd8-4e1e-a2f1-9a4fbda7f4c3",
   "metadata": {},
   "outputs": [
    {
     "data": {
      "text/plain": [
       "array([[ 5,  7],\n",
       "       [ 0,  9],\n",
       "       [-5,  7]])"
      ]
     },
     "execution_count": 27,
     "metadata": {},
     "output_type": "execute_result"
    }
   ],
   "source": [
    "a3 = np.array([[5, 7], [0, 9], [-5, 7]])\n",
    "a3"
   ]
  },
  {
   "cell_type": "code",
   "execution_count": 29,
   "id": "bd1d81b3-9202-42db-a5ee-ce9fac040ae5",
   "metadata": {},
   "outputs": [
    {
     "data": {
      "text/plain": [
       "array([[8, 1, 0],\n",
       "       [6, 2, 3]])"
      ]
     },
     "execution_count": 29,
     "metadata": {},
     "output_type": "execute_result"
    }
   ],
   "source": [
    "a4 = np.array([[8, 1, 0], [6, 2, 3]])\n",
    "a4"
   ]
  },
  {
   "cell_type": "code",
   "execution_count": 32,
   "id": "e61ce65a-4b35-461e-a28c-658ea0b24c65",
   "metadata": {},
   "outputs": [
    {
     "data": {
      "text/plain": [
       "array([[82, 19, 21],\n",
       "       [54, 18, 27],\n",
       "       [ 2,  9, 21]])"
      ]
     },
     "execution_count": 32,
     "metadata": {},
     "output_type": "execute_result"
    }
   ],
   "source": [
    "a = a3.dot(a4)\n",
    "a"
   ]
  },
  {
   "cell_type": "markdown",
   "id": "4d6ad704-2598-431a-b91a-b43387c543d9",
   "metadata": {},
   "source": [
    "## حساب متوسط القيم:"
   ]
  },
  {
   "cell_type": "code",
   "execution_count": 40,
   "id": "c2334363-feb9-4c38-b77d-85a531c7c59f",
   "metadata": {},
   "outputs": [
    {
     "data": {
      "text/plain": [
       "2.0"
      ]
     },
     "execution_count": 40,
     "metadata": {},
     "output_type": "execute_result"
    }
   ],
   "source": [
    "np.average(arr2[0])"
   ]
  },
  {
   "cell_type": "code",
   "execution_count": 41,
   "id": "1d8fbe6c-1ff4-4506-af5f-fa4dbbfc3263",
   "metadata": {},
   "outputs": [
    {
     "data": {
      "text/plain": [
       "36.0"
      ]
     },
     "execution_count": 41,
     "metadata": {},
     "output_type": "execute_result"
    }
   ],
   "source": [
    "np.average(arr2[1])"
   ]
  },
  {
   "cell_type": "code",
   "execution_count": 42,
   "id": "6bdeff84-b72f-4bd0-9410-4313a8952285",
   "metadata": {},
   "outputs": [
    {
     "data": {
      "text/plain": [
       "8.0"
      ]
     },
     "execution_count": 42,
     "metadata": {},
     "output_type": "execute_result"
    }
   ],
   "source": [
    "np.average(arr2[2])"
   ]
  },
  {
   "cell_type": "code",
   "execution_count": 43,
   "id": "4b82c48c-89ba-4381-87ee-b170ac6440f2",
   "metadata": {},
   "outputs": [
    {
     "data": {
      "text/plain": [
       "15.333333333333334"
      ]
     },
     "execution_count": 43,
     "metadata": {},
     "output_type": "execute_result"
    }
   ],
   "source": [
    "np.average(arr2)"
   ]
  },
  {
   "cell_type": "markdown",
   "id": "99bac50a-7e42-434f-a1c8-0b6f2bdb4a6b",
   "metadata": {},
   "source": [
    "# التمرين 3: التعامل مع الأبعاد والفهرسة"
   ]
  },
  {
   "cell_type": "markdown",
   "id": "527ba05e-b9fe-464e-bd8f-48f216f94e9f",
   "metadata": {},
   "source": [
    "#### تغيير شكل المصفوفة:"
   ]
  },
  {
   "cell_type": "markdown",
   "id": "23647cba-d8c1-4de6-bcf6-d18b47e9e182",
   "metadata": {},
   "source": [
    "استخدم المصفوفة 1D التي أنشأتها في التمرين 1.\n",
    "حولها إلى مصفوفة 2x5."
   ]
  },
  {
   "cell_type": "code",
   "execution_count": 46,
   "id": "5474cad6-9734-4185-b9f8-5f2f7da96b8a",
   "metadata": {},
   "outputs": [
    {
     "data": {
      "text/plain": [
       "array([ 1,  2,  3,  4,  5,  6,  7,  8,  9, 10])"
      ]
     },
     "execution_count": 46,
     "metadata": {},
     "output_type": "execute_result"
    }
   ],
   "source": [
    "arr1"
   ]
  },
  {
   "cell_type": "code",
   "execution_count": 48,
   "id": "d94e4c64-6087-44e9-8e15-093c9a6fbe00",
   "metadata": {},
   "outputs": [
    {
     "data": {
      "text/plain": [
       "array([[ 1,  2,  3,  4,  5],\n",
       "       [ 6,  7,  8,  9, 10]])"
      ]
     },
     "execution_count": 48,
     "metadata": {},
     "output_type": "execute_result"
    }
   ],
   "source": [
    "arr1 = arr1.reshape(2, 5)\n",
    "arr1"
   ]
  },
  {
   "cell_type": "markdown",
   "id": "1fb02dc5-4725-4987-8158-c7cffdf761e3",
   "metadata": {},
   "source": [
    "#### الفهرسة المتقدمة:"
   ]
  },
  {
   "cell_type": "markdown",
   "id": "0a734a96-68b4-407a-bc74-61a8ce25da32",
   "metadata": {},
   "source": [
    "أنشئ مصفوفة 4x4 تحتوي على أعداد من 1 إلى 16."
   ]
  },
  {
   "cell_type": "code",
   "execution_count": 49,
   "id": "5b822d96-3e24-416a-bccb-b649b276fb39",
   "metadata": {},
   "outputs": [
    {
     "data": {
      "text/plain": [
       "array([ 1,  2,  3,  4,  5,  6,  7,  8,  9, 10, 11, 12, 13, 14, 15, 16])"
      ]
     },
     "execution_count": 49,
     "metadata": {},
     "output_type": "execute_result"
    }
   ],
   "source": [
    "q3 = np.arange(1, 17)\n",
    "q3"
   ]
  },
  {
   "cell_type": "code",
   "execution_count": 51,
   "id": "093b6fb8-fff1-4d9c-8f93-c6ec5bd4fe38",
   "metadata": {},
   "outputs": [
    {
     "data": {
      "text/plain": [
       "array([[ 1,  2,  3,  4],\n",
       "       [ 5,  6,  7,  8],\n",
       "       [ 9, 10, 11, 12],\n",
       "       [13, 14, 15, 16]])"
      ]
     },
     "execution_count": 51,
     "metadata": {},
     "output_type": "execute_result"
    }
   ],
   "source": [
    "q3 = q3.reshape(4, 4)\n",
    "q3"
   ]
  },
  {
   "cell_type": "markdown",
   "id": "bff88a92-df2b-4527-a266-a816abc0e7be",
   "metadata": {},
   "source": [
    "استخرج كل العناصر الموجودة في الصفوف 1 و 3."
   ]
  },
  {
   "cell_type": "code",
   "execution_count": 55,
   "id": "5233c3b9-1749-439f-a53d-3d5e403db681",
   "metadata": {},
   "outputs": [
    {
     "data": {
      "text/plain": [
       "array([[ 1,  2,  3,  4],\n",
       "       [ 9, 10, 11, 12]])"
      ]
     },
     "execution_count": 55,
     "metadata": {},
     "output_type": "execute_result"
    }
   ],
   "source": [
    "q3[::2]"
   ]
  },
  {
   "cell_type": "markdown",
   "id": "0045830a-ff8b-490f-ae1c-5689a08b58dd",
   "metadata": {},
   "source": [
    "استخرج جميع العناصر الموجودة في الأعمدة 2 و 4."
   ]
  },
  {
   "cell_type": "code",
   "execution_count": 56,
   "id": "beaf6495-8735-43c2-9a46-c60add9f7f8f",
   "metadata": {},
   "outputs": [
    {
     "data": {
      "text/plain": [
       "array([[ 2,  4],\n",
       "       [ 6,  8],\n",
       "       [10, 12],\n",
       "       [14, 16]])"
      ]
     },
     "execution_count": 56,
     "metadata": {},
     "output_type": "execute_result"
    }
   ],
   "source": [
    "q3[::, 1::2]"
   ]
  },
  {
   "cell_type": "markdown",
   "id": "4ccb3db2-bcad-4142-b821-7fd6f1d07e3d",
   "metadata": {},
   "source": [
    "# التمرين 4: دوال إحصائية وتحليل البيانات"
   ]
  },
  {
   "cell_type": "markdown",
   "id": "30797464-c2b0-4d37-8160-cc20e347f4fa",
   "metadata": {},
   "source": [
    "#### حساب القيم الإحصائية:"
   ]
  },
  {
   "cell_type": "markdown",
   "id": "7ab997ae-4643-450c-a08b-2945695691f1",
   "metadata": {},
   "source": [
    "أنشئ مصفوفة تحتوي على 100 عنصر عشوائي."
   ]
  },
  {
   "cell_type": "code",
   "execution_count": 90,
   "id": "7a3bb37c-0976-4e59-b9a7-a54219fb518a",
   "metadata": {},
   "outputs": [
    {
     "data": {
      "text/plain": [
       "1"
      ]
     },
     "execution_count": 90,
     "metadata": {},
     "output_type": "execute_result"
    }
   ],
   "source": [
    "arr_rand = np.random.rand(100)\n",
    "arr_rand.ndim"
   ]
  },
  {
   "cell_type": "code",
   "execution_count": 91,
   "id": "bc97e5df-6d7e-4bb4-9e39-6139d024b0fd",
   "metadata": {},
   "outputs": [
    {
     "data": {
      "text/plain": [
       "(100,)"
      ]
     },
     "execution_count": 91,
     "metadata": {},
     "output_type": "execute_result"
    }
   ],
   "source": [
    "arr_rand.shape"
   ]
  },
  {
   "cell_type": "code",
   "execution_count": 92,
   "id": "63d2a18e-aa38-460e-b918-e8608490bc6b",
   "metadata": {},
   "outputs": [
    {
     "data": {
      "text/plain": [
       "array([1.77456658, 0.94350709, 0.30962141, 1.55145235, 3.27555255,\n",
       "       5.96036943, 7.29136065, 6.08129439, 2.10659821, 2.84536491,\n",
       "       0.11143971, 1.58239635, 7.45602267, 5.25467414, 3.16885499,\n",
       "       8.29209509, 4.47976798, 1.33075544, 1.91444368, 0.37115783,\n",
       "       8.35833666, 0.59399168, 6.21188652, 5.78601486, 6.38664059,\n",
       "       3.7804396 , 7.18234841, 4.35920188, 8.85026875, 8.96023137,\n",
       "       2.07769698, 9.48252446, 3.99554001, 0.06590635, 8.00334891,\n",
       "       7.43170775, 7.11451892, 1.52926942, 4.91717301, 8.12292873,\n",
       "       0.24606689, 8.28279573, 2.25155203, 8.60249373, 2.97478987,\n",
       "       2.19474613, 9.05623412, 1.54169767, 4.38493463, 0.82032199,\n",
       "       4.74213878, 6.35854647, 9.52156041, 5.59220974, 6.22242175,\n",
       "       0.86531015, 0.95515374, 2.59093184, 3.51289083, 9.81421466,\n",
       "       4.14756718, 8.67627692, 2.10649004, 5.73386594, 3.81233532,\n",
       "       6.2999162 , 8.96684707, 9.23343449, 2.57858487, 7.69049973,\n",
       "       2.32520876, 2.05046221, 4.32414479, 3.08097886, 5.59170826,\n",
       "       7.44808183, 1.29413231, 9.29393637, 5.30515532, 5.17209899,\n",
       "       4.79340973, 7.95057157, 5.83801454, 7.49825116, 1.41556464,\n",
       "       2.15561004, 5.99596004, 2.05426287, 1.60833703, 0.48682207,\n",
       "       0.44169985, 0.09522232, 4.3834526 , 0.34320946, 2.79752667,\n",
       "       6.39078766, 0.28433552, 5.36598587, 2.61285187, 2.97872431])"
      ]
     },
     "execution_count": 92,
     "metadata": {},
     "output_type": "execute_result"
    }
   ],
   "source": [
    "arr_rand *10"
   ]
  },
  {
   "cell_type": "markdown",
   "id": "ec1002a9-2ef2-4158-bdfa-ba47c9d4f5dc",
   "metadata": {},
   "source": [
    "احسب المتوسط، الوسيط، والانحراف المعياري لهذه المصفوفة."
   ]
  },
  {
   "cell_type": "markdown",
   "id": "3621846d-35fb-45fb-8aa2-5c757c0a8663",
   "metadata": {},
   "source": [
    "##### المتوسط"
   ]
  },
  {
   "cell_type": "code",
   "execution_count": 93,
   "id": "45f8aa9f-46a6-4d23-84d1-abfe19b3f5b1",
   "metadata": {},
   "outputs": [
    {
     "data": {
      "text/plain": [
       "0.44046460674460525"
      ]
     },
     "execution_count": 93,
     "metadata": {},
     "output_type": "execute_result"
    }
   ],
   "source": [
    "np.average(arr_rand) # first method"
   ]
  },
  {
   "cell_type": "code",
   "execution_count": 94,
   "id": "3dc2dcc1-2c7d-43d4-b542-e713965d7c15",
   "metadata": {},
   "outputs": [
    {
     "data": {
      "text/plain": [
       "0.44046460674460525"
      ]
     },
     "execution_count": 94,
     "metadata": {},
     "output_type": "execute_result"
    }
   ],
   "source": [
    "np.mean(arr_rand) # 2ed method"
   ]
  },
  {
   "cell_type": "markdown",
   "id": "d4c6cc51-1abd-4f65-90c2-15916a5fb2ae",
   "metadata": {},
   "source": [
    "##### الوسيط(median)"
   ]
  },
  {
   "cell_type": "code",
   "execution_count": 95,
   "id": "75c3f4ee-f9b5-44bd-b0c1-cfa44eaaaeb3",
   "metadata": {},
   "outputs": [
    {
     "data": {
      "text/plain": [
       "0.43416733383872225"
      ]
     },
     "execution_count": 95,
     "metadata": {},
     "output_type": "execute_result"
    }
   ],
   "source": [
    "np.median(arr_rand)"
   ]
  },
  {
   "cell_type": "markdown",
   "id": "867d1a5c-1741-48c0-8fa9-d79e51de0486",
   "metadata": {},
   "source": [
    "##### الإنحراف المعياري"
   ]
  },
  {
   "cell_type": "code",
   "execution_count": 96,
   "id": "40bf3544-411b-4a1d-b171-5afda96f7b6f",
   "metadata": {},
   "outputs": [
    {
     "data": {
      "text/plain": [
       "0.2885994972522447"
      ]
     },
     "execution_count": 96,
     "metadata": {},
     "output_type": "execute_result"
    }
   ],
   "source": [
    "np.std(arr_rand)"
   ]
  },
  {
   "cell_type": "markdown",
   "id": "9b15f4be-e9ef-4bed-9325-ce12ff3858e8",
   "metadata": {},
   "source": [
    "### فرز المصفوفة:"
   ]
  },
  {
   "cell_type": "markdown",
   "id": "6a3c8a19-97e0-4c1a-8c77-82c41bbb6c15",
   "metadata": {},
   "source": [
    "أنشئ مصفوفة تحتوي على 10 عناصر عشوائية."
   ]
  },
  {
   "cell_type": "code",
   "execution_count": 97,
   "id": "6f021a02-e60c-4bb2-8116-354a68a7c12f",
   "metadata": {},
   "outputs": [
    {
     "data": {
      "text/plain": [
       "array([0.97922324, 0.15413396, 0.94493046, 0.11156811, 0.06591557,\n",
       "       0.78557527, 0.50203796, 0.88884709, 0.83906909, 0.74696288])"
      ]
     },
     "execution_count": 97,
     "metadata": {},
     "output_type": "execute_result"
    }
   ],
   "source": [
    "rand2 = np.random.rand(10)\n",
    "rand2"
   ]
  },
  {
   "cell_type": "markdown",
   "id": "f3af53f8-873e-4854-b122-4579851e96a5",
   "metadata": {},
   "source": [
    "قم بفرز هذه المصفوفة ترتيبًا تصاعديًا."
   ]
  },
  {
   "cell_type": "code",
   "execution_count": 100,
   "id": "2bfda685-e676-426e-9b91-ae3e8a15733b",
   "metadata": {},
   "outputs": [
    {
     "data": {
      "text/plain": [
       "array([0.06591557, 0.11156811, 0.15413396, 0.50203796, 0.74696288,\n",
       "       0.78557527, 0.83906909, 0.88884709, 0.94493046, 0.97922324])"
      ]
     },
     "execution_count": 100,
     "metadata": {},
     "output_type": "execute_result"
    }
   ],
   "source": [
    "rand2 = np.sort(rand2)\n",
    "rand2"
   ]
  },
  {
   "cell_type": "markdown",
   "id": "773c3317-045b-45db-b370-daa35dee7dfe",
   "metadata": {},
   "source": [
    "احسب ترتيب المصفوفة ترتيبًا تنازليًا."
   ]
  },
  {
   "cell_type": "code",
   "execution_count": 101,
   "id": "eccb95cd-1960-4507-8431-2ae7b3662c30",
   "metadata": {},
   "outputs": [
    {
     "data": {
      "text/plain": [
       "array([0.97922324, 0.94493046, 0.88884709, 0.83906909, 0.78557527,\n",
       "       0.74696288, 0.50203796, 0.15413396, 0.11156811, 0.06591557])"
      ]
     },
     "execution_count": 101,
     "metadata": {},
     "output_type": "execute_result"
    }
   ],
   "source": [
    "rand2[::-1]"
   ]
  },
  {
   "cell_type": "markdown",
   "id": "5cf4081c-409e-4810-8efc-f7203f4696d4",
   "metadata": {},
   "source": [
    "# التمرين 5: التعامل مع القيم المفقودة"
   ]
  },
  {
   "cell_type": "code",
   "execution_count": null,
   "id": "709a66b4-abf3-4220-acd6-6b969ed8ecf0",
   "metadata": {},
   "outputs": [],
   "source": []
  },
  {
   "cell_type": "code",
   "execution_count": null,
   "id": "60b6dcbd-bd9b-49a0-a42f-a10ad7603a1f",
   "metadata": {},
   "outputs": [],
   "source": []
  },
  {
   "cell_type": "code",
   "execution_count": null,
   "id": "ed2c98d4-3e3f-49cc-94b7-7aaef5aed510",
   "metadata": {},
   "outputs": [],
   "source": []
  },
  {
   "cell_type": "code",
   "execution_count": null,
   "id": "dde285e1-c256-4435-993f-4d1327173942",
   "metadata": {},
   "outputs": [],
   "source": []
  },
  {
   "cell_type": "code",
   "execution_count": null,
   "id": "28ca6500-8af6-4f63-b1a2-ea50cdff2460",
   "metadata": {},
   "outputs": [],
   "source": []
  },
  {
   "cell_type": "code",
   "execution_count": null,
   "id": "91d417f1-f2a7-46a8-8ebc-794a69761409",
   "metadata": {},
   "outputs": [],
   "source": []
  },
  {
   "cell_type": "code",
   "execution_count": null,
   "id": "13d2d3a4-1c80-46cf-954c-e28ded7e914f",
   "metadata": {},
   "outputs": [],
   "source": []
  },
  {
   "cell_type": "code",
   "execution_count": null,
   "id": "263d99b3-9a46-494c-bc71-a14f8476dec3",
   "metadata": {},
   "outputs": [],
   "source": []
  }
 ],
 "metadata": {
  "kernelspec": {
   "display_name": "Python 3 (ipykernel)",
   "language": "python",
   "name": "python3"
  },
  "language_info": {
   "codemirror_mode": {
    "name": "ipython",
    "version": 3
   },
   "file_extension": ".py",
   "mimetype": "text/x-python",
   "name": "python",
   "nbconvert_exporter": "python",
   "pygments_lexer": "ipython3",
   "version": "3.12.4"
  }
 },
 "nbformat": 4,
 "nbformat_minor": 5
}
