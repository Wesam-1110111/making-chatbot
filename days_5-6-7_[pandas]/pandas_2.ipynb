{
 "cells": [
  {
   "cell_type": "code",
   "execution_count": 2,
   "id": "d6ee9d89-9da5-40dc-bdec-51a981104c06",
   "metadata": {},
   "outputs": [],
   "source": [
    "import pandas as pd\n",
    "import numpy as np"
   ]
  },
  {
   "cell_type": "code",
   "execution_count": null,
   "id": "2a2b1c8c-35a1-44ca-bd00-a60821e4ec2b",
   "metadata": {},
   "outputs": [],
   "source": []
  },
  {
   "cell_type": "markdown",
   "id": "65306d7c-f954-494f-a6c3-e37b0bcf0212",
   "metadata": {},
   "source": [
    "# Make a Series"
   ]
  },
  {
   "cell_type": "code",
   "execution_count": 4,
   "id": "c0ef9551-2398-48c8-9b7e-b768a388ded3",
   "metadata": {},
   "outputs": [],
   "source": [
    "d = {23: np.nan, 24: 'i try'}"
   ]
  },
  {
   "cell_type": "code",
   "execution_count": 11,
   "id": "00134363-c695-4568-8b86-a25e680629e1",
   "metadata": {},
   "outputs": [],
   "source": [
    "s = pd.Series([5.1, 4.9, 7.2, 0.5])"
   ]
  },
  {
   "cell_type": "code",
   "execution_count": 12,
   "id": "bacb31d5-cc85-47ba-aa03-916c16b0a7c0",
   "metadata": {},
   "outputs": [
    {
     "data": {
      "text/plain": [
       "0    5.1\n",
       "1    4.9\n",
       "2    7.2\n",
       "3    0.5\n",
       "dtype: float64"
      ]
     },
     "execution_count": 12,
     "metadata": {},
     "output_type": "execute_result"
    }
   ],
   "source": [
    "s"
   ]
  },
  {
   "cell_type": "code",
   "execution_count": 15,
   "id": "36f43ebd-ab84-4da0-ac79-d3988f32e0f9",
   "metadata": {},
   "outputs": [
    {
     "data": {
      "text/plain": [
       "count    4.000000\n",
       "mean     4.425000\n",
       "std      2.815878\n",
       "min      0.500000\n",
       "25%      3.800000\n",
       "50%      5.000000\n",
       "75%      5.625000\n",
       "max      7.200000\n",
       "dtype: float64"
      ]
     },
     "execution_count": 15,
     "metadata": {},
     "output_type": "execute_result"
    }
   ],
   "source": [
    "s.describe()"
   ]
  },
  {
   "cell_type": "code",
   "execution_count": 18,
   "id": "0e6f6482-6759-418c-81c4-9ec01973e37d",
   "metadata": {},
   "outputs": [
    {
     "data": {
      "text/plain": [
       "4"
      ]
     },
     "execution_count": 18,
     "metadata": {},
     "output_type": "execute_result"
    }
   ],
   "source": [
    "s.size"
   ]
  },
  {
   "cell_type": "code",
   "execution_count": 19,
   "id": "6dd13b03-7737-414a-b0ea-553302d49771",
   "metadata": {},
   "outputs": [
    {
     "data": {
      "text/plain": [
       "(4,)"
      ]
     },
     "execution_count": 19,
     "metadata": {},
     "output_type": "execute_result"
    }
   ],
   "source": [
    "s.shape"
   ]
  },
  {
   "cell_type": "code",
   "execution_count": 20,
   "id": "35816bac-2281-4c66-9ccb-4836d6ede2be",
   "metadata": {},
   "outputs": [
    {
     "data": {
      "text/plain": [
       "1"
      ]
     },
     "execution_count": 20,
     "metadata": {},
     "output_type": "execute_result"
    }
   ],
   "source": [
    "s.ndim"
   ]
  },
  {
   "cell_type": "markdown",
   "id": "9b7b1657-a90a-4f26-b44e-1993254f8083",
   "metadata": {},
   "source": [
    "# Make a DF by dic"
   ]
  },
  {
   "cell_type": "code",
   "execution_count": 21,
   "id": "abbd2603-3f58-4784-b257-a661d0dae44b",
   "metadata": {},
   "outputs": [],
   "source": [
    "data = {\n",
    "    'Name': ['Wesam', 'Ahmed', 'Sara', 'Omar'],\n",
    "    'Age': [24, 44, 33, 52]\n",
    "}"
   ]
  },
  {
   "cell_type": "code",
   "execution_count": 25,
   "id": "4a708f0c-cab0-48f6-bb8e-0f2dc68669b4",
   "metadata": {},
   "outputs": [],
   "source": [
    "df = pd.DataFrame.from_dict(data)"
   ]
  },
  {
   "cell_type": "code",
   "execution_count": 26,
   "id": "412ab919-a344-47f9-bb83-0e59dab67c4c",
   "metadata": {},
   "outputs": [
    {
     "data": {
      "text/html": [
       "<div>\n",
       "<style scoped>\n",
       "    .dataframe tbody tr th:only-of-type {\n",
       "        vertical-align: middle;\n",
       "    }\n",
       "\n",
       "    .dataframe tbody tr th {\n",
       "        vertical-align: top;\n",
       "    }\n",
       "\n",
       "    .dataframe thead th {\n",
       "        text-align: right;\n",
       "    }\n",
       "</style>\n",
       "<table border=\"1\" class=\"dataframe\">\n",
       "  <thead>\n",
       "    <tr style=\"text-align: right;\">\n",
       "      <th></th>\n",
       "      <th>Name</th>\n",
       "      <th>Age</th>\n",
       "    </tr>\n",
       "  </thead>\n",
       "  <tbody>\n",
       "    <tr>\n",
       "      <th>0</th>\n",
       "      <td>Wesam</td>\n",
       "      <td>24</td>\n",
       "    </tr>\n",
       "    <tr>\n",
       "      <th>1</th>\n",
       "      <td>Ahmed</td>\n",
       "      <td>44</td>\n",
       "    </tr>\n",
       "    <tr>\n",
       "      <th>2</th>\n",
       "      <td>Sara</td>\n",
       "      <td>33</td>\n",
       "    </tr>\n",
       "    <tr>\n",
       "      <th>3</th>\n",
       "      <td>Omar</td>\n",
       "      <td>52</td>\n",
       "    </tr>\n",
       "  </tbody>\n",
       "</table>\n",
       "</div>"
      ],
      "text/plain": [
       "    Name  Age\n",
       "0  Wesam   24\n",
       "1  Ahmed   44\n",
       "2   Sara   33\n",
       "3   Omar   52"
      ]
     },
     "execution_count": 26,
     "metadata": {},
     "output_type": "execute_result"
    }
   ],
   "source": [
    "df"
   ]
  },
  {
   "cell_type": "code",
   "execution_count": null,
   "id": "7eab32ed-bb74-47d6-90e0-a0307a1d36d7",
   "metadata": {},
   "outputs": [],
   "source": []
  },
  {
   "cell_type": "code",
   "execution_count": null,
   "id": "b20a6ea9-0df4-4d4f-bad5-bef8c7fff4e1",
   "metadata": {},
   "outputs": [],
   "source": []
  }
 ],
 "metadata": {
  "kernelspec": {
   "display_name": "Python 3 (ipykernel)",
   "language": "python",
   "name": "python3"
  },
  "language_info": {
   "codemirror_mode": {
    "name": "ipython",
    "version": 3
   },
   "file_extension": ".py",
   "mimetype": "text/x-python",
   "name": "python",
   "nbconvert_exporter": "python",
   "pygments_lexer": "ipython3",
   "version": "3.12.4"
  }
 },
 "nbformat": 4,
 "nbformat_minor": 5
}
