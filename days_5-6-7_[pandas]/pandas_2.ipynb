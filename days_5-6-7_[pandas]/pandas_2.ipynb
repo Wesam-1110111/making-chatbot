{
 "cells": [
  {
   "cell_type": "code",
   "execution_count": 2,
   "id": "d6ee9d89-9da5-40dc-bdec-51a981104c06",
   "metadata": {},
   "outputs": [],
   "source": [
    "import pandas as pd\n",
    "import numpy as np"
   ]
  },
  {
   "cell_type": "code",
   "execution_count": null,
   "id": "2a2b1c8c-35a1-44ca-bd00-a60821e4ec2b",
   "metadata": {},
   "outputs": [],
   "source": []
  },
  {
   "cell_type": "markdown",
   "id": "65306d7c-f954-494f-a6c3-e37b0bcf0212",
   "metadata": {},
   "source": [
    "# Make a Series"
   ]
  },
  {
   "cell_type": "code",
   "execution_count": 4,
   "id": "c0ef9551-2398-48c8-9b7e-b768a388ded3",
   "metadata": {},
   "outputs": [],
   "source": [
    "d = {23: np.nan, 24: 'i try'}"
   ]
  },
  {
   "cell_type": "code",
   "execution_count": 11,
   "id": "00134363-c695-4568-8b86-a25e680629e1",
   "metadata": {},
   "outputs": [],
   "source": [
    "s = pd.Series([5.1, 4.9, 7.2, 0.5])"
   ]
  },
  {
   "cell_type": "code",
   "execution_count": 12,
   "id": "bacb31d5-cc85-47ba-aa03-916c16b0a7c0",
   "metadata": {},
   "outputs": [
    {
     "data": {
      "text/plain": [
       "0    5.1\n",
       "1    4.9\n",
       "2    7.2\n",
       "3    0.5\n",
       "dtype: float64"
      ]
     },
     "execution_count": 12,
     "metadata": {},
     "output_type": "execute_result"
    }
   ],
   "source": [
    "s"
   ]
  },
  {
   "cell_type": "code",
   "execution_count": 15,
   "id": "36f43ebd-ab84-4da0-ac79-d3988f32e0f9",
   "metadata": {},
   "outputs": [
    {
     "data": {
      "text/plain": [
       "count    4.000000\n",
       "mean     4.425000\n",
       "std      2.815878\n",
       "min      0.500000\n",
       "25%      3.800000\n",
       "50%      5.000000\n",
       "75%      5.625000\n",
       "max      7.200000\n",
       "dtype: float64"
      ]
     },
     "execution_count": 15,
     "metadata": {},
     "output_type": "execute_result"
    }
   ],
   "source": [
    "s.describe()"
   ]
  },
  {
   "cell_type": "code",
   "execution_count": 18,
   "id": "0e6f6482-6759-418c-81c4-9ec01973e37d",
   "metadata": {},
   "outputs": [
    {
     "data": {
      "text/plain": [
       "4"
      ]
     },
     "execution_count": 18,
     "metadata": {},
     "output_type": "execute_result"
    }
   ],
   "source": [
    "s.size"
   ]
  },
  {
   "cell_type": "code",
   "execution_count": 19,
   "id": "6dd13b03-7737-414a-b0ea-553302d49771",
   "metadata": {},
   "outputs": [
    {
     "data": {
      "text/plain": [
       "(4,)"
      ]
     },
     "execution_count": 19,
     "metadata": {},
     "output_type": "execute_result"
    }
   ],
   "source": [
    "s.shape"
   ]
  },
  {
   "cell_type": "code",
   "execution_count": 20,
   "id": "35816bac-2281-4c66-9ccb-4836d6ede2be",
   "metadata": {},
   "outputs": [
    {
     "data": {
      "text/plain": [
       "1"
      ]
     },
     "execution_count": 20,
     "metadata": {},
     "output_type": "execute_result"
    }
   ],
   "source": [
    "s.ndim"
   ]
  },
  {
   "cell_type": "markdown",
   "id": "9b7b1657-a90a-4f26-b44e-1993254f8083",
   "metadata": {},
   "source": [
    "# Make a DataFrame by dic"
   ]
  },
  {
   "cell_type": "code",
   "execution_count": 29,
   "id": "abbd2603-3f58-4784-b257-a661d0dae44b",
   "metadata": {},
   "outputs": [],
   "source": [
    "data = {\n",
    "    'Name': ['Wesam', 'Ahmed', 'Sara', 'Omar', 'Salem'],\n",
    "    'Age': [24, 44, 33, 52, 62]\n",
    "}"
   ]
  },
  {
   "cell_type": "code",
   "execution_count": 41,
   "id": "4a708f0c-cab0-48f6-bb8e-0f2dc68669b4",
   "metadata": {},
   "outputs": [],
   "source": [
    "df = pd.DataFrame.from_dict(data, orient='index', columns=['1st', '2ed', '3th', '4th', '5th'])"
   ]
  },
  {
   "cell_type": "code",
   "execution_count": 42,
   "id": "412ab919-a344-47f9-bb83-0e59dab67c4c",
   "metadata": {},
   "outputs": [
    {
     "data": {
      "text/html": [
       "<div>\n",
       "<style scoped>\n",
       "    .dataframe tbody tr th:only-of-type {\n",
       "        vertical-align: middle;\n",
       "    }\n",
       "\n",
       "    .dataframe tbody tr th {\n",
       "        vertical-align: top;\n",
       "    }\n",
       "\n",
       "    .dataframe thead th {\n",
       "        text-align: right;\n",
       "    }\n",
       "</style>\n",
       "<table border=\"1\" class=\"dataframe\">\n",
       "  <thead>\n",
       "    <tr style=\"text-align: right;\">\n",
       "      <th></th>\n",
       "      <th>1st</th>\n",
       "      <th>2ed</th>\n",
       "      <th>3th</th>\n",
       "      <th>4th</th>\n",
       "      <th>5th</th>\n",
       "    </tr>\n",
       "  </thead>\n",
       "  <tbody>\n",
       "    <tr>\n",
       "      <th>Name</th>\n",
       "      <td>Wesam</td>\n",
       "      <td>Ahmed</td>\n",
       "      <td>Sara</td>\n",
       "      <td>Omar</td>\n",
       "      <td>Salem</td>\n",
       "    </tr>\n",
       "    <tr>\n",
       "      <th>Age</th>\n",
       "      <td>24</td>\n",
       "      <td>44</td>\n",
       "      <td>33</td>\n",
       "      <td>52</td>\n",
       "      <td>62</td>\n",
       "    </tr>\n",
       "  </tbody>\n",
       "</table>\n",
       "</div>"
      ],
      "text/plain": [
       "        1st    2ed   3th   4th    5th\n",
       "Name  Wesam  Ahmed  Sara  Omar  Salem\n",
       "Age      24     44    33    52     62"
      ]
     },
     "execution_count": 42,
     "metadata": {},
     "output_type": "execute_result"
    }
   ],
   "source": [
    "df"
   ]
  },
  {
   "cell_type": "code",
   "execution_count": 43,
   "id": "7eab32ed-bb74-47d6-90e0-a0307a1d36d7",
   "metadata": {},
   "outputs": [
    {
     "data": {
      "text/plain": [
       "2"
      ]
     },
     "execution_count": 43,
     "metadata": {},
     "output_type": "execute_result"
    }
   ],
   "source": [
    "df.ndim"
   ]
  },
  {
   "cell_type": "code",
   "execution_count": 44,
   "id": "b20a6ea9-0df4-4d4f-bad5-bef8c7fff4e1",
   "metadata": {},
   "outputs": [
    {
     "data": {
      "text/plain": [
       "(2, 5)"
      ]
     },
     "execution_count": 44,
     "metadata": {},
     "output_type": "execute_result"
    }
   ],
   "source": [
    "df.shape"
   ]
  },
  {
   "cell_type": "code",
   "execution_count": 50,
   "id": "e94af0dd-c6e8-424a-8d45-c5dd437ad157",
   "metadata": {},
   "outputs": [],
   "source": [
    "df2 = pd.DataFrame.from_dict(data, orient='index')"
   ]
  },
  {
   "cell_type": "code",
   "execution_count": 51,
   "id": "bb85f829-7054-4f84-8374-20bc33a68578",
   "metadata": {},
   "outputs": [
    {
     "data": {
      "text/html": [
       "<div>\n",
       "<style scoped>\n",
       "    .dataframe tbody tr th:only-of-type {\n",
       "        vertical-align: middle;\n",
       "    }\n",
       "\n",
       "    .dataframe tbody tr th {\n",
       "        vertical-align: top;\n",
       "    }\n",
       "\n",
       "    .dataframe thead th {\n",
       "        text-align: right;\n",
       "    }\n",
       "</style>\n",
       "<table border=\"1\" class=\"dataframe\">\n",
       "  <thead>\n",
       "    <tr style=\"text-align: right;\">\n",
       "      <th></th>\n",
       "      <th>0</th>\n",
       "      <th>1</th>\n",
       "      <th>2</th>\n",
       "      <th>3</th>\n",
       "      <th>4</th>\n",
       "    </tr>\n",
       "  </thead>\n",
       "  <tbody>\n",
       "    <tr>\n",
       "      <th>Name</th>\n",
       "      <td>Wesam</td>\n",
       "      <td>Ahmed</td>\n",
       "      <td>Sara</td>\n",
       "      <td>Omar</td>\n",
       "      <td>Salem</td>\n",
       "    </tr>\n",
       "    <tr>\n",
       "      <th>Age</th>\n",
       "      <td>24</td>\n",
       "      <td>44</td>\n",
       "      <td>33</td>\n",
       "      <td>52</td>\n",
       "      <td>62</td>\n",
       "    </tr>\n",
       "  </tbody>\n",
       "</table>\n",
       "</div>"
      ],
      "text/plain": [
       "          0      1     2     3      4\n",
       "Name  Wesam  Ahmed  Sara  Omar  Salem\n",
       "Age      24     44    33    52     62"
      ]
     },
     "execution_count": 51,
     "metadata": {},
     "output_type": "execute_result"
    }
   ],
   "source": [
    "df2"
   ]
  },
  {
   "cell_type": "code",
   "execution_count": 86,
   "id": "d22a0cb3-57b0-4b2d-ba6e-158e2379b4a0",
   "metadata": {},
   "outputs": [],
   "source": [
    "def search(value=0):\n",
    "    \n",
    "    try:\n",
    "        return df2.loc[value]\n",
    "    except KeyError:\n",
    "        return f'({value}) not found'"
   ]
  },
  {
   "cell_type": "code",
   "execution_count": 91,
   "id": "eefd88ca-d212-44e9-be4d-9bfaaae3fbf7",
   "metadata": {},
   "outputs": [
    {
     "data": {
      "text/plain": [
       "0    Wesam\n",
       "1    Ahmed\n",
       "2     Sara\n",
       "3     Omar\n",
       "4    Salem\n",
       "Name: Name, dtype: object"
      ]
     },
     "execution_count": 91,
     "metadata": {},
     "output_type": "execute_result"
    }
   ],
   "source": [
    "search('Name')"
   ]
  },
  {
   "cell_type": "code",
   "execution_count": null,
   "id": "c577c8f1-f920-4a66-8068-da9ce6a682e6",
   "metadata": {},
   "outputs": [],
   "source": []
  },
  {
   "cell_type": "code",
   "execution_count": null,
   "id": "98beb1e4-5f5e-4a01-8752-1f08672b5a2c",
   "metadata": {},
   "outputs": [],
   "source": []
  },
  {
   "cell_type": "code",
   "execution_count": null,
   "id": "c9022980-e701-4847-817e-9cdecf172113",
   "metadata": {},
   "outputs": [],
   "source": []
  },
  {
   "cell_type": "code",
   "execution_count": null,
   "id": "0be7babb-33e5-4cf4-8d82-c19230e7eab6",
   "metadata": {},
   "outputs": [],
   "source": []
  },
  {
   "cell_type": "code",
   "execution_count": null,
   "id": "54c57e3b-5add-4cbb-9080-76501a120cf2",
   "metadata": {},
   "outputs": [],
   "source": []
  },
  {
   "cell_type": "code",
   "execution_count": null,
   "id": "1cbdf130-f9f1-4354-8e15-1f013cec69f9",
   "metadata": {},
   "outputs": [],
   "source": []
  },
  {
   "cell_type": "code",
   "execution_count": null,
   "id": "8d2b08cf-d95d-4f82-9e26-2b260028e4e0",
   "metadata": {},
   "outputs": [],
   "source": []
  },
  {
   "cell_type": "code",
   "execution_count": null,
   "id": "bea5c78d-9326-41b2-a657-9f1ff1acfe65",
   "metadata": {},
   "outputs": [],
   "source": []
  },
  {
   "cell_type": "code",
   "execution_count": null,
   "id": "2fd1fde1-0530-4659-87f5-3f2c5b30491a",
   "metadata": {},
   "outputs": [],
   "source": []
  },
  {
   "cell_type": "code",
   "execution_count": null,
   "id": "56527ba7-c633-4708-9bea-7d71d06c2a1a",
   "metadata": {},
   "outputs": [],
   "source": []
  },
  {
   "cell_type": "code",
   "execution_count": null,
   "id": "97232233-de93-4b5c-b9ac-3098bab95323",
   "metadata": {},
   "outputs": [],
   "source": []
  },
  {
   "cell_type": "code",
   "execution_count": null,
   "id": "e34e7e12-553a-4333-b743-9c181b352b57",
   "metadata": {},
   "outputs": [],
   "source": []
  },
  {
   "cell_type": "code",
   "execution_count": null,
   "id": "f6159fe0-4f66-4fa9-975f-7f7961bedf34",
   "metadata": {},
   "outputs": [],
   "source": []
  },
  {
   "cell_type": "code",
   "execution_count": null,
   "id": "07505ac6-b565-4979-b4ca-1d7ca2ea6d77",
   "metadata": {},
   "outputs": [],
   "source": []
  },
  {
   "cell_type": "code",
   "execution_count": null,
   "id": "aa99d93b-2510-4277-ac93-83e2233c3a11",
   "metadata": {},
   "outputs": [],
   "source": []
  },
  {
   "cell_type": "code",
   "execution_count": null,
   "id": "72728eb1-80ce-45ea-bba4-fb738653a32d",
   "metadata": {},
   "outputs": [],
   "source": []
  },
  {
   "cell_type": "code",
   "execution_count": null,
   "id": "989d3b37-e1c4-47a9-9ba5-79a5a3f9d8a1",
   "metadata": {},
   "outputs": [],
   "source": []
  },
  {
   "cell_type": "code",
   "execution_count": null,
   "id": "f1de96ba-dbb3-44cc-9e8a-3d102f549e17",
   "metadata": {},
   "outputs": [],
   "source": []
  },
  {
   "cell_type": "code",
   "execution_count": null,
   "id": "9849201f-e5b2-4319-84db-901a2dd444b6",
   "metadata": {},
   "outputs": [],
   "source": []
  },
  {
   "cell_type": "code",
   "execution_count": null,
   "id": "ade0fe32-2a89-496e-a10a-d5d8ddc3fb66",
   "metadata": {},
   "outputs": [],
   "source": []
  },
  {
   "cell_type": "code",
   "execution_count": null,
   "id": "b592bc6e-27c9-40ca-a4a6-12e35eb76d50",
   "metadata": {},
   "outputs": [],
   "source": []
  },
  {
   "cell_type": "code",
   "execution_count": null,
   "id": "1a8b1f7e-cfce-45ac-934c-0fa5a0cf5199",
   "metadata": {},
   "outputs": [],
   "source": []
  },
  {
   "cell_type": "code",
   "execution_count": null,
   "id": "96edbb39-b0d4-41d2-825f-81e382b2696e",
   "metadata": {},
   "outputs": [],
   "source": []
  },
  {
   "cell_type": "code",
   "execution_count": null,
   "id": "413fce91-bdd2-4007-820e-61b11b70c490",
   "metadata": {},
   "outputs": [],
   "source": []
  },
  {
   "cell_type": "code",
   "execution_count": null,
   "id": "7c896931-1a5a-4e52-8186-8ed817358d4c",
   "metadata": {},
   "outputs": [],
   "source": []
  },
  {
   "cell_type": "code",
   "execution_count": null,
   "id": "fb40f574-59f1-445a-9257-4bfae09a997f",
   "metadata": {},
   "outputs": [],
   "source": []
  }
 ],
 "metadata": {
  "kernelspec": {
   "display_name": "Python 3 (ipykernel)",
   "language": "python",
   "name": "python3"
  },
  "language_info": {
   "codemirror_mode": {
    "name": "ipython",
    "version": 3
   },
   "file_extension": ".py",
   "mimetype": "text/x-python",
   "name": "python",
   "nbconvert_exporter": "python",
   "pygments_lexer": "ipython3",
   "version": "3.12.4"
  }
 },
 "nbformat": 4,
 "nbformat_minor": 5
}
